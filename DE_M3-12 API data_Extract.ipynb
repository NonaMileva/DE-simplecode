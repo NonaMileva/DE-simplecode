{
 "cells": [
  {
   "cell_type": "markdown",
   "metadata": {},
   "source": [
    "# Data Engineering - Extract API Data\n"
   ]
  },
  {
   "cell_type": "markdown",
   "metadata": {},
   "source": [
    "Estimated time needed: **20** minutes\n"
   ]
  },
  {
   "cell_type": "markdown",
   "metadata": {},
   "source": [
    "## Objectives\n",
    "\n",
    "In this part you will:\n",
    "\n",
    "*   Collect exchange rate data using an API\n",
    "*   Store the data as a CSV\n"
   ]
  },
  {
   "cell_type": "markdown",
   "metadata": {},
   "source": [
    "For this lab, we are going to be using Python and several Python libraries. Some of these libraries might be installed in your lab environment or in SN Labs. Others may need to be installed by you. The cells below will install these libraries when executed.\n"
   ]
  },
  {
   "cell_type": "code",
   "execution_count": 1,
   "metadata": {},
   "outputs": [],
   "source": [
    "#!pip install pandas\n",
    "#!pip install requests"
   ]
  },
  {
   "cell_type": "markdown",
   "metadata": {},
   "source": [
    "## Imports\n",
    "\n",
    "Import any additional libraries you may need here.\n"
   ]
  },
  {
   "cell_type": "code",
   "execution_count": 2,
   "metadata": {},
   "outputs": [],
   "source": [
    "import requests\n",
    "import pandas as pd"
   ]
  },
  {
   "cell_type": "markdown",
   "metadata": {},
   "source": [
    "## Extract Data Using an API\n"
   ]
  },
  {
   "cell_type": "markdown",
   "metadata": {},
   "source": [
    "Using ExchangeRate-API we will extract currency exchange rate data. Use the below steps to get the access key and to get the data.\n",
    "\n",
    "1.  Open the url : [https://exchangeratesapi.io/](https://exchangeratesapi.io/?utm_medium=Exinfluencer&utm_source=Exinfluencer&utm_content=000026UJ&utm_term=10006555&utm_id=NA-SkillsNetwork-Channel-SkillsNetworkCoursesIBMDeveloperSkillsNetworkPY0221ENSkillsNetwork23455645-2021-01-01) and create a free account.\n",
    "2.  Once the account is created. You will get the Get the Free API key option on the top as shown below:\n",
    "\n",
    "<img src=\"https://cf-courses-data.s3.us.cloud-object-storage.appdomain.cloud/IBMDeveloperSkillsNetwork-PY0221EN-SkillsNetwork/labs/module%206/Final%20Assignment/Images/getapi.png\"/>\n",
    "\n",
    "3.  Copy the API key and use in the url in Question 1.\n"
   ]
  },
  {
   "cell_type": "markdown",
   "metadata": {},
   "source": [
    "### Call the API\n",
    "\n",
    "<b> Question 1</b> Using the `requests` library call the endpoint given above and save the text, remember the first few characters of the output:\n"
   ]
  },
  {
   "cell_type": "code",
   "execution_count": 3,
   "metadata": {},
   "outputs": [
    {
     "name": "stdout",
     "output_type": "stream",
     "text": [
      "\n",
      " {'success': True, 'timestamp': 1642766943, 'base': 'EUR', 'date': '2022-01-21', 'rates': {'AED': 4.162047, 'AFN': 118.898584, 'ALL': 121.728666, 'AMD': 547.168752, 'ANG': 2.042717, 'AOA': 603.889746, 'ARS': 118.164257, 'AUD': 1.576367, 'AWG': 2.040233, 'AZN': 1.928164, 'BAM': 1.956612, 'BBD': 2.288515, 'BDT': 97.408503, 'BGN': 1.956133, 'BHD': 0.427212, 'BIF': 2262.624574, 'BMD': 1.133148, 'BND': 1.525123, 'BOB': 7.815024, 'BRL': 6.185746, 'BSD': 1.133453, 'BTC': 2.9321089e-05, 'BTN': 84.322155, 'BWP': 13.021123, 'BYN': 2.916366, 'BYR': 22209.701209, 'BZD': 2.284713, 'CAD': 1.420044, 'CDF': 2283.292857, 'CHF': 1.034723, 'CLF': 0.032849, 'CLP': 906.099366, 'CNY': 7.184389, 'COP': 4504.829957, 'CRC': 719.42762, 'CUC': 1.133148, 'CUP': 30.028423, 'CVE': 110.3091, 'CZK': 24.355314, 'DJF': 201.78067, 'DKK': 7.443525, 'DOP': 65.479178, 'DZD': 158.781216, 'EGP': 17.806971, 'ERN': 16.997242, 'ETB': 56.391345, 'EUR': 1, 'FJD': 2.407429, 'FKP': 0.824841, 'GBP': 0.835872, 'GEL': 3.489579, 'GGP': 0.824841, 'GHS': 7.10384, 'GIP': 0.824841, 'GMD': 59.660367, 'GNF': 10257.600883, 'GTQ': 8.733091, 'GYD': 237.02476, 'HKD': 8.825127, 'HNL': 27.887149, 'HRK': 7.53113, 'HTG': 115.918343, 'HUF': 357.978522, 'IDR': 16223.450187, 'ILS': 3.561881, 'IMP': 0.824841, 'INR': 84.314188, 'IQD': 1654.265957, 'IRR': 47875.503629, 'ISK': 145.41672, 'JEP': 0.824841, 'JMD': 176.40353, 'JOD': 0.803352, 'JPY': 129.009473, 'KES': 128.680005, 'KGS': 96.08676, 'KHR': 4615.385914, 'KMF': 491.729372, 'KPW': 1019.833397, 'KRW': 1350.208219, 'KWD': 0.342687, 'KYD': 0.944615, 'KZT': 494.291975, 'LAK': 12861.755501, 'LBP': 1713.985234, 'LKR': 229.523287, 'LRD': 171.105734, 'LSL': 17.24084, 'LTL': 3.345892, 'LVL': 0.68543, 'LYD': 5.195823, 'MAD': 10.525008, 'MDL': 20.458579, 'MGA': 4516.755752, 'MKD': 61.639643, 'MMK': 2015.270969, 'MNT': 3239.478875, 'MOP': 9.092315, 'MRO': 404.533649, 'MUR': 49.523025, 'MVR': 17.50712, 'MWK': 925.338941, 'MXN': 23.22065, 'MYR': 4.743929, 'MZN': 72.328465, 'NAD': 17.240874, 'NGN': 465.848625, 'NIO': 40.186066, 'NOK': 10.054145, 'NPR': 134.915128, 'NZD': 1.686017, 'OMR': 0.436224, 'PAB': 1.133453, 'PEN': 4.35164, 'PGK': 3.979726, 'PHP': 58.073508, 'PKR': 199.713606, 'PLN': 4.532014, 'PYG': 7904.073856, 'QAR': 4.125767, 'RON': 4.94551, 'RSD': 117.626428, 'RUB': 86.773034, 'RWF': 1176.950919, 'SAR': 4.250399, 'SBD': 9.127322, 'SCR': 14.835902, 'SDG': 495.722742, 'SEK': 10.427846, 'SGD': 1.524651, 'SHP': 1.560799, 'SLL': 12832.901582, 'SOS': 662.891262, 'SRD': 24.091295, 'STD': 23453.876215, 'SVC': 9.917965, 'SYP': 2846.467574, 'SZL': 17.15856, 'THB': 37.306646, 'TJS': 12.802331, 'TMT': 3.97735, 'TND': 3.281033, 'TOP': 2.569923, 'TRY': 15.200552, 'TTD': 7.691475, 'TWD': 31.376302, 'TZS': 2617.571561, 'UAH': 32.09173, 'UGX': 3989.695039, 'USD': 1.133148, 'UYU': 50.615246, 'UZS': 12261.592058, 'VEF': 242301293238.58594, 'VND': 25643.139712, 'VUV': 128.806538, 'WST': 2.960171, 'XAF': 656.225143, 'XAG': 0.046592, 'XAU': 0.000618, 'XCD': 3.062389, 'XDR': 0.80823, 'XOF': 656.21935, 'XPF': 119.688734, 'YER': 283.570299, 'ZAR': 17.170966, 'ZMK': 10199.692896, 'ZMW': 19.806819, 'ZWL': 364.8732}}\n"
     ]
    }
   ],
   "source": [
    "# Write your code here\n",
    "url = 'http://api.exchangeratesapi.io/v1/latest?base=EUR&access_key=#*******'  #Make sure to change ******* to your API key.\n",
    "\n",
    "'''\n",
    "\"latest\" endpoint - request the most recent exchange rate data\n",
    "'''\n",
    "Free_API_key = '#*******'        #Make sure to change ******* to your API key.\n",
    "    \n",
    "# rates for USD, AUD, CAD, PLN and MXN\n",
    "url = 'http://api.exchangeratesapi.io/v1/latest?base = GBP&access_key='+Free_API_key + '&symbols = USD,AUD,CAD,PLN,MXN'\n",
    "response = requests.get(url)\n",
    "html = response.content\n",
    "html1 =response.text\n",
    "html2 = response.json()\n",
    "\n",
    "# print(html)\n",
    "# print('\\n',html1)\n",
    "print('\\n',html2)\n",
    "\n"
   ]
  },
  {
   "cell_type": "code",
   "execution_count": 4,
   "metadata": {},
   "outputs": [],
   "source": [
    "from bs4 import BeautifulSoup"
   ]
  },
  {
   "cell_type": "code",
   "execution_count": 5,
   "metadata": {},
   "outputs": [
    {
     "name": "stdout",
     "output_type": "stream",
     "text": [
      "{\"success\":true,\"timestamp\":1642766943,\"base\":\"EUR\",\"date\":\"2022-01-21\",\"rates\":{\"AED\":4.162047,\"AFN\":118.898584,\"ALL\":121.728666,\"AMD\":547.168752,\"ANG\":2.042717,\"AOA\":603.889746,\"ARS\":118.164257,\"AUD\":1.576367,\"AWG\":2.040233,\"AZN\":1.928164,\"BAM\":1.956612,\"BBD\":2.288515,\"BDT\":97.408503,\"BGN\":1.956133,\"BHD\":0.427212,\"BIF\":2262.624574,\"BMD\":1.133148,\"BND\":1.525123,\"BOB\":7.815024,\"BRL\":6.185746,\"BSD\":1.133453,\"BTC\":2.9321089e-5,\"BTN\":84.322155,\"BWP\":13.021123,\"BYN\":2.916366,\"BYR\":22209.701209,\"BZD\":2.284713,\"CAD\":1.420044,\"CDF\":2283.292857,\"CHF\":1.034723,\"CLF\":0.032849,\"CLP\":906.099366,\"CNY\":7.184389,\"COP\":4504.829957,\"CRC\":719.42762,\"CUC\":1.133148,\"CUP\":30.028423,\"CVE\":110.3091,\"CZK\":24.355314,\"DJF\":201.78067,\"DKK\":7.443525,\"DOP\":65.479178,\"DZD\":158.781216,\"EGP\":17.806971,\"ERN\":16.997242,\"ETB\":56.391345,\"EUR\":1,\"FJD\":2.407429,\"FKP\":0.824841,\"GBP\":0.835872,\"GEL\":3.489579,\"GGP\":0.824841,\"GHS\":7.10384,\"GIP\":0.824841,\"GMD\":59.660367,\"GNF\":10257.600883,\"GTQ\":8.733091,\"GYD\":237.02476,\"HKD\":8.825127,\"HNL\":27.887149,\"HRK\":7.53113,\"HTG\":115.918343,\"HUF\":357.978522,\"IDR\":16223.450187,\"ILS\":3.561881,\"IMP\":0.824841,\"INR\":84.314188,\"IQD\":1654.265957,\"IRR\":47875.503629,\"ISK\":145.41672,\"JEP\":0.824841,\"JMD\":176.40353,\"JOD\":0.803352,\"JPY\":129.009473,\"KES\":128.680005,\"KGS\":96.08676,\"KHR\":4615.385914,\"KMF\":491.729372,\"KPW\":1019.833397,\"KRW\":1350.208219,\"KWD\":0.342687,\"KYD\":0.944615,\"KZT\":494.291975,\"LAK\":12861.755501,\"LBP\":1713.985234,\"LKR\":229.523287,\"LRD\":171.105734,\"LSL\":17.24084,\"LTL\":3.345892,\"LVL\":0.68543,\"LYD\":5.195823,\"MAD\":10.525008,\"MDL\":20.458579,\"MGA\":4516.755752,\"MKD\":61.639643,\"MMK\":2015.270969,\"MNT\":3239.478875,\"MOP\":9.092315,\"MRO\":404.533649,\"MUR\":49.523025,\"MVR\":17.50712,\"MWK\":925.338941,\"MXN\":23.22065,\"MYR\":4.743929,\"MZN\":72.328465,\"NAD\":17.240874,\"NGN\":465.848625,\"NIO\":40.186066,\"NOK\":10.054145,\"NPR\":134.915128,\"NZD\":1.686017,\"OMR\":0.436224,\"PAB\":1.133453,\"PEN\":4.35164,\"PGK\":3.979726,\"PHP\":58.073508,\"PKR\":199.713606,\"PLN\":4.532014,\"PYG\":7904.073856,\"QAR\":4.125767,\"RON\":4.94551,\"RSD\":117.626428,\"RUB\":86.773034,\"RWF\":1176.950919,\"SAR\":4.250399,\"SBD\":9.127322,\"SCR\":14.835902,\"SDG\":495.722742,\"SEK\":10.427846,\"SGD\":1.524651,\"SHP\":1.560799,\"SLL\":12832.901582,\"SOS\":662.891262,\"SRD\":24.091295,\"STD\":23453.876215,\"SVC\":9.917965,\"SYP\":2846.467574,\"SZL\":17.15856,\"THB\":37.306646,\"TJS\":12.802331,\"TMT\":3.97735,\"TND\":3.281033,\"TOP\":2.569923,\"TRY\":15.200552,\"TTD\":7.691475,\"TWD\":31.376302,\"TZS\":2617.571561,\"UAH\":32.09173,\"UGX\":3989.695039,\"USD\":1.133148,\"UYU\":50.615246,\"UZS\":12261.592058,\"VEF\":242301293238.58594,\"VND\":25643.139712,\"VUV\":128.806538,\"WST\":2.960171,\"XAF\":656.225143,\"XAG\":0.046592,\"XAU\":0.000618,\"XCD\":3.062389,\"XDR\":0.80823,\"XOF\":656.21935,\"XPF\":119.688734,\"YER\":283.570299,\"ZAR\":17.170966,\"ZMK\":10199.692896,\"ZMW\":19.806819,\"ZWL\":364.8732}}\n"
     ]
    }
   ],
   "source": [
    "soup = BeautifulSoup(html, 'html.parser')\n",
    "print(soup)\n"
   ]
  },
  {
   "cell_type": "markdown",
   "metadata": {},
   "source": [
    "### Save as DataFrame\n",
    "\n",
    "<b> Question 2</b>  Using the data gathered turn it into a `pandas` dataframe. The dataframe should have the Currency as the index and `Rate` as their columns. Make sure to drop unnecessary columns.\n"
   ]
  },
  {
   "cell_type": "code",
   "execution_count": 6,
   "metadata": {},
   "outputs": [
    {
     "data": {
      "text/html": [
       "<div>\n",
       "<style scoped>\n",
       "    .dataframe tbody tr th:only-of-type {\n",
       "        vertical-align: middle;\n",
       "    }\n",
       "\n",
       "    .dataframe tbody tr th {\n",
       "        vertical-align: top;\n",
       "    }\n",
       "\n",
       "    .dataframe thead th {\n",
       "        text-align: right;\n",
       "    }\n",
       "</style>\n",
       "<table border=\"1\" class=\"dataframe\">\n",
       "  <thead>\n",
       "    <tr style=\"text-align: right;\">\n",
       "      <th></th>\n",
       "      <th>success</th>\n",
       "      <th>timestamp</th>\n",
       "      <th>base</th>\n",
       "      <th>date</th>\n",
       "      <th>rates</th>\n",
       "    </tr>\n",
       "  </thead>\n",
       "  <tbody>\n",
       "    <tr>\n",
       "      <th>AED</th>\n",
       "      <td>True</td>\n",
       "      <td>2022-01-21 12:09:03</td>\n",
       "      <td>EUR</td>\n",
       "      <td>2022-01-21</td>\n",
       "      <td>4.162047</td>\n",
       "    </tr>\n",
       "    <tr>\n",
       "      <th>AFN</th>\n",
       "      <td>True</td>\n",
       "      <td>2022-01-21 12:09:03</td>\n",
       "      <td>EUR</td>\n",
       "      <td>2022-01-21</td>\n",
       "      <td>118.898584</td>\n",
       "    </tr>\n",
       "    <tr>\n",
       "      <th>ALL</th>\n",
       "      <td>True</td>\n",
       "      <td>2022-01-21 12:09:03</td>\n",
       "      <td>EUR</td>\n",
       "      <td>2022-01-21</td>\n",
       "      <td>121.728666</td>\n",
       "    </tr>\n",
       "    <tr>\n",
       "      <th>AMD</th>\n",
       "      <td>True</td>\n",
       "      <td>2022-01-21 12:09:03</td>\n",
       "      <td>EUR</td>\n",
       "      <td>2022-01-21</td>\n",
       "      <td>547.168752</td>\n",
       "    </tr>\n",
       "    <tr>\n",
       "      <th>ANG</th>\n",
       "      <td>True</td>\n",
       "      <td>2022-01-21 12:09:03</td>\n",
       "      <td>EUR</td>\n",
       "      <td>2022-01-21</td>\n",
       "      <td>2.042717</td>\n",
       "    </tr>\n",
       "    <tr>\n",
       "      <th>...</th>\n",
       "      <td>...</td>\n",
       "      <td>...</td>\n",
       "      <td>...</td>\n",
       "      <td>...</td>\n",
       "      <td>...</td>\n",
       "    </tr>\n",
       "    <tr>\n",
       "      <th>YER</th>\n",
       "      <td>True</td>\n",
       "      <td>2022-01-21 12:09:03</td>\n",
       "      <td>EUR</td>\n",
       "      <td>2022-01-21</td>\n",
       "      <td>283.570299</td>\n",
       "    </tr>\n",
       "    <tr>\n",
       "      <th>ZAR</th>\n",
       "      <td>True</td>\n",
       "      <td>2022-01-21 12:09:03</td>\n",
       "      <td>EUR</td>\n",
       "      <td>2022-01-21</td>\n",
       "      <td>17.170966</td>\n",
       "    </tr>\n",
       "    <tr>\n",
       "      <th>ZMK</th>\n",
       "      <td>True</td>\n",
       "      <td>2022-01-21 12:09:03</td>\n",
       "      <td>EUR</td>\n",
       "      <td>2022-01-21</td>\n",
       "      <td>10199.692896</td>\n",
       "    </tr>\n",
       "    <tr>\n",
       "      <th>ZMW</th>\n",
       "      <td>True</td>\n",
       "      <td>2022-01-21 12:09:03</td>\n",
       "      <td>EUR</td>\n",
       "      <td>2022-01-21</td>\n",
       "      <td>19.806819</td>\n",
       "    </tr>\n",
       "    <tr>\n",
       "      <th>ZWL</th>\n",
       "      <td>True</td>\n",
       "      <td>2022-01-21 12:09:03</td>\n",
       "      <td>EUR</td>\n",
       "      <td>2022-01-21</td>\n",
       "      <td>364.873200</td>\n",
       "    </tr>\n",
       "  </tbody>\n",
       "</table>\n",
       "<p>168 rows × 5 columns</p>\n",
       "</div>"
      ],
      "text/plain": [
       "     success           timestamp base       date         rates\n",
       "AED     True 2022-01-21 12:09:03  EUR 2022-01-21      4.162047\n",
       "AFN     True 2022-01-21 12:09:03  EUR 2022-01-21    118.898584\n",
       "ALL     True 2022-01-21 12:09:03  EUR 2022-01-21    121.728666\n",
       "AMD     True 2022-01-21 12:09:03  EUR 2022-01-21    547.168752\n",
       "ANG     True 2022-01-21 12:09:03  EUR 2022-01-21      2.042717\n",
       "..       ...                 ...  ...        ...           ...\n",
       "YER     True 2022-01-21 12:09:03  EUR 2022-01-21    283.570299\n",
       "ZAR     True 2022-01-21 12:09:03  EUR 2022-01-21     17.170966\n",
       "ZMK     True 2022-01-21 12:09:03  EUR 2022-01-21  10199.692896\n",
       "ZMW     True 2022-01-21 12:09:03  EUR 2022-01-21     19.806819\n",
       "ZWL     True 2022-01-21 12:09:03  EUR 2022-01-21    364.873200\n",
       "\n",
       "[168 rows x 5 columns]"
      ]
     },
     "execution_count": 6,
     "metadata": {},
     "output_type": "execute_result"
    }
   ],
   "source": [
    "# Turn the data into a dataframe\n",
    "df = pd.read_json(html)\n",
    "df"
   ]
  },
  {
   "cell_type": "code",
   "execution_count": 7,
   "metadata": {},
   "outputs": [],
   "source": [
    "# Drop unnescessary columns\n",
    "df.drop(['success','timestamp','base','date'], axis = 1, inplace = True)"
   ]
  },
  {
   "cell_type": "code",
   "execution_count": 8,
   "metadata": {},
   "outputs": [
    {
     "data": {
      "text/html": [
       "<div>\n",
       "<style scoped>\n",
       "    .dataframe tbody tr th:only-of-type {\n",
       "        vertical-align: middle;\n",
       "    }\n",
       "\n",
       "    .dataframe tbody tr th {\n",
       "        vertical-align: top;\n",
       "    }\n",
       "\n",
       "    .dataframe thead th {\n",
       "        text-align: right;\n",
       "    }\n",
       "</style>\n",
       "<table border=\"1\" class=\"dataframe\">\n",
       "  <thead>\n",
       "    <tr style=\"text-align: right;\">\n",
       "      <th></th>\n",
       "      <th>Rates</th>\n",
       "    </tr>\n",
       "  </thead>\n",
       "  <tbody>\n",
       "    <tr>\n",
       "      <th>AED</th>\n",
       "      <td>4.162047</td>\n",
       "    </tr>\n",
       "    <tr>\n",
       "      <th>AFN</th>\n",
       "      <td>118.898584</td>\n",
       "    </tr>\n",
       "    <tr>\n",
       "      <th>ALL</th>\n",
       "      <td>121.728666</td>\n",
       "    </tr>\n",
       "    <tr>\n",
       "      <th>AMD</th>\n",
       "      <td>547.168752</td>\n",
       "    </tr>\n",
       "    <tr>\n",
       "      <th>ANG</th>\n",
       "      <td>2.042717</td>\n",
       "    </tr>\n",
       "    <tr>\n",
       "      <th>...</th>\n",
       "      <td>...</td>\n",
       "    </tr>\n",
       "    <tr>\n",
       "      <th>YER</th>\n",
       "      <td>283.570299</td>\n",
       "    </tr>\n",
       "    <tr>\n",
       "      <th>ZAR</th>\n",
       "      <td>17.170966</td>\n",
       "    </tr>\n",
       "    <tr>\n",
       "      <th>ZMK</th>\n",
       "      <td>10199.692896</td>\n",
       "    </tr>\n",
       "    <tr>\n",
       "      <th>ZMW</th>\n",
       "      <td>19.806819</td>\n",
       "    </tr>\n",
       "    <tr>\n",
       "      <th>ZWL</th>\n",
       "      <td>364.873200</td>\n",
       "    </tr>\n",
       "  </tbody>\n",
       "</table>\n",
       "<p>168 rows × 1 columns</p>\n",
       "</div>"
      ],
      "text/plain": [
       "            Rates\n",
       "AED      4.162047\n",
       "AFN    118.898584\n",
       "ALL    121.728666\n",
       "AMD    547.168752\n",
       "ANG      2.042717\n",
       "..            ...\n",
       "YER    283.570299\n",
       "ZAR     17.170966\n",
       "ZMK  10199.692896\n",
       "ZMW     19.806819\n",
       "ZWL    364.873200\n",
       "\n",
       "[168 rows x 1 columns]"
      ]
     },
     "execution_count": 8,
     "metadata": {},
     "output_type": "execute_result"
    }
   ],
   "source": [
    "df.rename(columns={'rates':'Rates'}, inplace = True)\n",
    "df"
   ]
  },
  {
   "cell_type": "markdown",
   "metadata": {},
   "source": [
    "### Load the Data\n",
    "\n",
    "Using the dataframe save it as a CSV names `exchange_rates_1.csv`.\n"
   ]
  },
  {
   "cell_type": "code",
   "execution_count": 9,
   "metadata": {},
   "outputs": [],
   "source": [
    "import os"
   ]
  },
  {
   "cell_type": "code",
   "execution_count": 10,
   "metadata": {},
   "outputs": [],
   "source": [
    "# path = os.path.join(os.getcwd(), 'file_name.csv')\n",
    "# path = os.path.join(os.getcwd(),'Working_folder','TestFile.csv')\n",
    "# path = os. getcwd()\n",
    "# path"
   ]
  },
  {
   "cell_type": "code",
   "execution_count": 11,
   "metadata": {},
   "outputs": [
    {
     "name": "stdout",
     "output_type": "stream",
     "text": [
      "Directory  D:\\_Learning_Udemy and Coursera\\IBM Data Analytics\\DE_M3 Python Project for Data Engineering\\Labs\\tempDir_DE_M3-12  already exists\n",
      "Directory  D:\\_Learning_Udemy and Coursera\\IBM Data Analytics\\DE_M3 Python Project for Data Engineering\\Labs\\tempDir_DE_M3-12  already exists\n",
      "D:\\_Learning_Udemy and Coursera\\IBM Data Analytics\\DE_M3 Python Project for Data Engineering\\Labs\\tempDir_DE_M3-12\n"
     ]
    }
   ],
   "source": [
    "import os\n",
    "def main():\n",
    "    \n",
    "    # Create directory\n",
    "    global dirName\n",
    "    dirName = os.path.join(os.getcwd(),'tempDir_DE_M3-12')\n",
    "    \n",
    "    try:\n",
    "        # Create target Directory\n",
    "        os.mkdir(dirName)\n",
    "        print(\"Directory \" , dirName ,  \" Created \") \n",
    "    except FileExistsError:\n",
    "        print(\"Directory \" , dirName ,  \" already exists\")        \n",
    "    \n",
    "    # Create target Directory if don't exist\n",
    "    if not os.path.exists(dirName):\n",
    "        os.mkdir(dirName)\n",
    "        print(\"Directory \" , dirName ,  \" Created \")\n",
    "    else:    \n",
    "        print(\"Directory \" , dirName ,  \" already exists\")\n",
    "    \n",
    "#     dirName = 'tempDir2/temp2/temp'\n",
    "    \n",
    "#     # Create target directory & all intermediate directories if don't exists\n",
    "#     try:\n",
    "#         os.makedirs(dirName)    \n",
    "#         print(\"Directory \" , dirName ,  \" Created \")\n",
    "#     except FileExistsError:\n",
    "#         print(\"Directory \" , dirName ,  \" already exists\")  \n",
    "        \n",
    "    \n",
    "#     # Create target directory & all intermediate directories if don't exists\n",
    "#     if not os.path.exists(dirName):\n",
    "#         os.makedirs(dirName)\n",
    "#         print(\"Directory \" , dirName ,  \" Created \")\n",
    "#     else:    \n",
    "#         print(\"Directory \" , dirName ,  \" already exists\")    \n",
    "        \n",
    "    \n",
    "if __name__ == '__main__':\n",
    "    main()\n",
    "print(dirName)"
   ]
  },
  {
   "cell_type": "code",
   "execution_count": 12,
   "metadata": {},
   "outputs": [],
   "source": [
    "# Save the Dataframe\n",
    "df.to_csv(dirName+'\\\\exchange_rates_1.csv')"
   ]
  },
  {
   "cell_type": "markdown",
   "metadata": {},
   "source": [
    "Your CSV should be in this format with more currencies\n",
    "\n",
    "|     | Rates      |\n",
    "| --- | ---------- |\n",
    "| AED | 4.398618   |\n",
    "| AFN | 92.917693  |\n",
    "| ALL | 123.099093 |\n",
    "| AMD | 621.935674 |\n",
    "| ANG | 2.149648   |\n"
   ]
  },
  {
   "cell_type": "code",
   "execution_count": 13,
   "metadata": {},
   "outputs": [
    {
     "data": {
      "text/html": [
       "<div>\n",
       "<style scoped>\n",
       "    .dataframe tbody tr th:only-of-type {\n",
       "        vertical-align: middle;\n",
       "    }\n",
       "\n",
       "    .dataframe tbody tr th {\n",
       "        vertical-align: top;\n",
       "    }\n",
       "\n",
       "    .dataframe thead th {\n",
       "        text-align: right;\n",
       "    }\n",
       "</style>\n",
       "<table border=\"1\" class=\"dataframe\">\n",
       "  <thead>\n",
       "    <tr style=\"text-align: right;\">\n",
       "      <th></th>\n",
       "      <th>Rates</th>\n",
       "    </tr>\n",
       "  </thead>\n",
       "  <tbody>\n",
       "    <tr>\n",
       "      <th>AED</th>\n",
       "      <td>4.162047</td>\n",
       "    </tr>\n",
       "    <tr>\n",
       "      <th>AFN</th>\n",
       "      <td>118.898584</td>\n",
       "    </tr>\n",
       "    <tr>\n",
       "      <th>ALL</th>\n",
       "      <td>121.728666</td>\n",
       "    </tr>\n",
       "    <tr>\n",
       "      <th>AMD</th>\n",
       "      <td>547.168752</td>\n",
       "    </tr>\n",
       "    <tr>\n",
       "      <th>ANG</th>\n",
       "      <td>2.042717</td>\n",
       "    </tr>\n",
       "    <tr>\n",
       "      <th>...</th>\n",
       "      <td>...</td>\n",
       "    </tr>\n",
       "    <tr>\n",
       "      <th>YER</th>\n",
       "      <td>283.570299</td>\n",
       "    </tr>\n",
       "    <tr>\n",
       "      <th>ZAR</th>\n",
       "      <td>17.170966</td>\n",
       "    </tr>\n",
       "    <tr>\n",
       "      <th>ZMK</th>\n",
       "      <td>10199.692896</td>\n",
       "    </tr>\n",
       "    <tr>\n",
       "      <th>ZMW</th>\n",
       "      <td>19.806819</td>\n",
       "    </tr>\n",
       "    <tr>\n",
       "      <th>ZWL</th>\n",
       "      <td>364.873200</td>\n",
       "    </tr>\n",
       "  </tbody>\n",
       "</table>\n",
       "<p>168 rows × 1 columns</p>\n",
       "</div>"
      ],
      "text/plain": [
       "            Rates\n",
       "AED      4.162047\n",
       "AFN    118.898584\n",
       "ALL    121.728666\n",
       "AMD    547.168752\n",
       "ANG      2.042717\n",
       "..            ...\n",
       "YER    283.570299\n",
       "ZAR     17.170966\n",
       "ZMK  10199.692896\n",
       "ZMW     19.806819\n",
       "ZWL    364.873200\n",
       "\n",
       "[168 rows x 1 columns]"
      ]
     },
     "execution_count": 13,
     "metadata": {},
     "output_type": "execute_result"
    }
   ],
   "source": [
    "exchange_rates_data = pd.read_csv(dirName+'\\\\exchange_rates_1.csv', index_col = 0)\n",
    "exchange_rates_data"
   ]
  },
  {
   "cell_type": "markdown",
   "metadata": {},
   "source": [
    "## Authors\n"
   ]
  },
  {
   "cell_type": "markdown",
   "metadata": {},
   "source": [
    "Ramesh Sannareddy, Joseph Santarcangelo and Azim Hirjani\n"
   ]
  },
  {
   "cell_type": "markdown",
   "metadata": {},
   "source": [
    "### Other Contributors\n"
   ]
  },
  {
   "cell_type": "markdown",
   "metadata": {},
   "source": [
    "Rav Ahuja\n"
   ]
  },
  {
   "cell_type": "markdown",
   "metadata": {},
   "source": [
    "## Change Log\n"
   ]
  },
  {
   "cell_type": "markdown",
   "metadata": {},
   "source": [
    "| Date (YYYY-MM-DD) | Version | Changed By        | Change Description                 |\n",
    "| ----------------- | ------- | ----------------- | ---------------------------------- |\n",
    "| 2021-04-15        | 0.2     | Malika            | Updated the lab from USD to EUR    |\n",
    "| 2020-11-25        | 0.1     | Ramesh Sannareddy | Created initial version of the lab |\n"
   ]
  },
  {
   "cell_type": "markdown",
   "metadata": {},
   "source": [
    "Copyright © 2020 IBM Corporation. This notebook and its source code are released under the terms of the [MIT License](https://cognitiveclass.ai/mit-license?utm_medium=Exinfluencer&utm_source=Exinfluencer&utm_content=000026UJ&utm_term=10006555&utm_id=NA-SkillsNetwork-Channel-SkillsNetworkCoursesIBMDeveloperSkillsNetworkPY0221ENSkillsNetwork23455645-2021-01-01&cm_mmc=Email_Newsletter-\\_-Developer_Ed%2BTech-\\_-WW_WW-\\_-SkillsNetwork-Courses-IBM-DA0321EN-SkillsNetwork-21426264&cm_mmca1=000026UJ&cm_mmca2=10006555&cm_mmca3=M12345678&cvosrc=email.Newsletter.M12345678&cvo_campaign=000026UJ).\n"
   ]
  }
 ],
 "metadata": {
  "kernelspec": {
   "display_name": "Python 3",
   "language": "python",
   "name": "python3"
  },
  "language_info": {
   "codemirror_mode": {
    "name": "ipython",
    "version": 3
   },
   "file_extension": ".py",
   "mimetype": "text/x-python",
   "name": "python",
   "nbconvert_exporter": "python",
   "pygments_lexer": "ipython3",
   "version": "3.8.8"
  }
 },
 "nbformat": 4,
 "nbformat_minor": 4
}
